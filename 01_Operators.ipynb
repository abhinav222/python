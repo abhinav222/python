{
 "cells": [
  {
   "cell_type": "markdown",
   "metadata": {},
   "source": [
    "# Operators"
   ]
  },
  {
   "cell_type": "markdown",
   "metadata": {},
   "source": [
    "#### Python Assignment Operators and Arithmetic Operators"
   ]
  },
  {
   "cell_type": "code",
   "execution_count": 5,
   "metadata": {
    "ExecuteTime": {
     "end_time": "2019-08-06T14:11:08.297793Z",
     "start_time": "2019-08-06T14:11:08.290793Z"
    }
   },
   "outputs": [
    {
     "name": "stdout",
     "output_type": "stream",
     "text": [
      "13\n",
      "7\n",
      "30\n",
      "3.3333333333333335\n",
      "3\n",
      "1000\n",
      "1\n"
     ]
    }
   ],
   "source": [
    "a = 10\n",
    "b = 3\n",
    "print(a+b)\n",
    "print(a-b)\n",
    "print(a*b)\n",
    "print(a/b)\n",
    "print(a//b) # Floor division\n",
    "print(a**b) # ** is used for power\n",
    "print(10%3) # modulo(%) operation finds the remainder after division of one number by another."
   ]
  },
  {
   "cell_type": "markdown",
   "metadata": {},
   "source": [
    "#### Comparison Operators"
   ]
  },
  {
   "cell_type": "code",
   "execution_count": 4,
   "metadata": {
    "ExecuteTime": {
     "end_time": "2019-08-06T14:07:14.581111Z",
     "start_time": "2019-08-06T14:07:14.575111Z"
    }
   },
   "outputs": [
    {
     "name": "stdout",
     "output_type": "stream",
     "text": [
      "False\n",
      "True\n",
      "True\n",
      "False\n"
     ]
    }
   ],
   "source": [
    "a = 2\n",
    "b = 3\n",
    "print (a == b) # To compare values\n",
    "print (a != b)\n",
    "print (a <= b)\n",
    "print (a >= b)"
   ]
  },
  {
   "cell_type": "code",
   "execution_count": 10,
   "metadata": {
    "ExecuteTime": {
     "end_time": "2019-08-06T14:07:14.581111Z",
     "start_time": "2019-08-06T14:07:14.575111Z"
    }
   },
   "outputs": [
    {
     "name": "stdout",
     "output_type": "stream",
     "text": [
      "140719837123424\n",
      "140719837123424\n",
      "True\n",
      "False\n"
     ]
    }
   ],
   "source": [
    "a = 2\n",
    "b = 2\n",
    "print(id(a))\n",
    "print(id(b))\n",
    "print (a is b) # To compare memory location of a and b\n",
    "print (a is not  b)"
   ]
  },
  {
   "cell_type": "code",
   "execution_count": 14,
   "metadata": {
    "ExecuteTime": {
     "end_time": "2019-08-06T14:07:14.581111Z",
     "start_time": "2019-08-06T14:07:14.575111Z"
    }
   },
   "outputs": [
    {
     "name": "stdout",
     "output_type": "stream",
     "text": [
      "140719837123424\n",
      "140719837123456\n",
      "False\n",
      "True\n"
     ]
    }
   ],
   "source": [
    "a = 2\n",
    "b = 3\n",
    "print(id(a))\n",
    "print(id(b))\n",
    "print (a is b) # To compare memory location of a and b\n",
    "print (a is not  b)"
   ]
  },
  {
   "cell_type": "markdown",
   "metadata": {},
   "source": [
    "#### Logical Operators"
   ]
  },
  {
   "cell_type": "code",
   "execution_count": 15,
   "metadata": {
    "ExecuteTime": {
     "end_time": "2019-08-06T14:07:37.078660Z",
     "start_time": "2019-08-06T14:07:37.072700Z"
    }
   },
   "outputs": [
    {
     "name": "stdout",
     "output_type": "stream",
     "text": [
      "0\n"
     ]
    }
   ],
   "source": [
    "a = 10\n",
    "b = 0\n",
    "c = 20\n",
    "print(a and b and c)"
   ]
  },
  {
   "cell_type": "code",
   "execution_count": 16,
   "metadata": {
    "ExecuteTime": {
     "end_time": "2019-08-06T14:07:37.078660Z",
     "start_time": "2019-08-06T14:07:37.072700Z"
    }
   },
   "outputs": [
    {
     "name": "stdout",
     "output_type": "stream",
     "text": [
      "20\n"
     ]
    }
   ],
   "source": [
    "a = 10\n",
    "b = -20\n",
    "c = 20\n",
    "print(a and b and c)"
   ]
  },
  {
   "cell_type": "code",
   "execution_count": 17,
   "metadata": {
    "ExecuteTime": {
     "end_time": "2019-08-06T14:07:37.078660Z",
     "start_time": "2019-08-06T14:07:37.072700Z"
    }
   },
   "outputs": [
    {
     "name": "stdout",
     "output_type": "stream",
     "text": [
      "-100\n"
     ]
    }
   ],
   "source": [
    "a = 10\n",
    "b = -20\n",
    "c = -100\n",
    "print(a and b and c)"
   ]
  },
  {
   "cell_type": "code",
   "execution_count": 18,
   "metadata": {
    "ExecuteTime": {
     "end_time": "2019-08-06T14:07:37.078660Z",
     "start_time": "2019-08-06T14:07:37.072700Z"
    }
   },
   "outputs": [
    {
     "name": "stdout",
     "output_type": "stream",
     "text": [
      "-20\n"
     ]
    }
   ],
   "source": [
    "a = 10\n",
    "b = -20\n",
    "c = -100\n",
    "print(c and a and b)"
   ]
  },
  {
   "cell_type": "code",
   "execution_count": 20,
   "metadata": {
    "ExecuteTime": {
     "end_time": "2019-08-06T14:07:52.505413Z",
     "start_time": "2019-08-06T14:07:52.500414Z"
    }
   },
   "outputs": [
    {
     "name": "stdout",
     "output_type": "stream",
     "text": [
      "-100\n"
     ]
    }
   ],
   "source": [
    "a = -100\n",
    "b = 0\n",
    "c = 200\n",
    "print(a or b or c) # \"and\" has high precedence"
   ]
  },
  {
   "cell_type": "code",
   "execution_count": 22,
   "metadata": {
    "ExecuteTime": {
     "end_time": "2019-08-06T14:07:52.505413Z",
     "start_time": "2019-08-06T14:07:52.500414Z"
    }
   },
   "outputs": [
    {
     "name": "stdout",
     "output_type": "stream",
     "text": [
      "200\n"
     ]
    }
   ],
   "source": [
    "a = 0\n",
    "b = 0\n",
    "c = 200\n",
    "print(a or b or c)"
   ]
  },
  {
   "cell_type": "markdown",
   "metadata": {},
   "source": [
    "###### and + or"
   ]
  },
  {
   "cell_type": "code",
   "execution_count": 23,
   "metadata": {
    "ExecuteTime": {
     "end_time": "2019-08-06T14:09:14.137693Z",
     "start_time": "2019-08-06T14:09:14.131691Z"
    }
   },
   "outputs": [
    {
     "name": "stdout",
     "output_type": "stream",
     "text": [
      "-80\n"
     ]
    }
   ],
   "source": [
    "a = -80\n",
    "b = 70\n",
    "c = 30\n",
    "print(a or b and c)"
   ]
  },
  {
   "cell_type": "code",
   "execution_count": 26,
   "metadata": {
    "ExecuteTime": {
     "end_time": "2019-08-06T14:09:14.137693Z",
     "start_time": "2019-08-06T14:09:14.131691Z"
    }
   },
   "outputs": [
    {
     "name": "stdout",
     "output_type": "stream",
     "text": [
      "30\n"
     ]
    }
   ],
   "source": [
    "a = 0\n",
    "b = 80\n",
    "c = 30\n",
    "print(a or b and c)"
   ]
  },
  {
   "cell_type": "code",
   "execution_count": 28,
   "metadata": {
    "ExecuteTime": {
     "end_time": "2019-08-06T14:09:14.137693Z",
     "start_time": "2019-08-06T14:09:14.131691Z"
    }
   },
   "outputs": [
    {
     "name": "stdout",
     "output_type": "stream",
     "text": [
      "10\n"
     ]
    }
   ],
   "source": [
    "a = 10\n",
    "b = 0\n",
    "c = 30\n",
    "print(a or b and c)"
   ]
  },
  {
   "cell_type": "code",
   "execution_count": 27,
   "metadata": {
    "ExecuteTime": {
     "end_time": "2019-08-06T14:09:14.137693Z",
     "start_time": "2019-08-06T14:09:14.131691Z"
    }
   },
   "outputs": [
    {
     "name": "stdout",
     "output_type": "stream",
     "text": [
      "30\n"
     ]
    }
   ],
   "source": [
    "a = 0\n",
    "b = 80\n",
    "c = 30\n",
    "print(a or (b and c))"
   ]
  },
  {
   "cell_type": "markdown",
   "metadata": {},
   "source": [
    "#### Membership Operators"
   ]
  },
  {
   "cell_type": "code",
   "execution_count": 29,
   "metadata": {},
   "outputs": [
    {
     "name": "stdout",
     "output_type": "stream",
     "text": [
      "True\n",
      "True\n",
      "False\n"
     ]
    }
   ],
   "source": [
    "a = [1,2,3,4,5]\n",
    "print(2 in a)\n",
    "print(20 not in a)\n",
    "print(20 in a)"
   ]
  },
  {
   "cell_type": "markdown",
   "metadata": {
    "ExecuteTime": {
     "end_time": "2019-02-23T03:48:10.313368Z",
     "start_time": "2019-02-23T03:48:10.310368Z"
    }
   },
   "source": [
    "#### Operators (Decreasing order of precedence) \tMeaning"
   ]
  },
  {
   "cell_type": "code",
   "execution_count": 1,
   "metadata": {
    "ExecuteTime": {
     "end_time": "2019-02-23T03:48:10.313368Z",
     "start_time": "2019-02-23T03:48:10.310368Z"
    }
   },
   "outputs": [],
   "source": [
    "# ** \tExponent\n",
    "# *, /, //, % \tMultiplication, Division, Floor division, Modulus\n",
    "# +, - \tAddition, Subtraction\n",
    "# <= < > >= \tComparison operators\n",
    "# = %= /= //= -= += *= **= \tAssignment Operators\n",
    "# is is not \tIdentity operators\n",
    "# in not in \tMembership operators\n",
    "# not or and \tLogical operators"
   ]
  },
  {
   "cell_type": "markdown",
   "metadata": {},
   "source": [
    "# Getting input from user "
   ]
  },
  {
   "cell_type": "code",
   "execution_count": 30,
   "metadata": {
    "ExecuteTime": {
     "end_time": "2018-07-21T03:31:34.075400Z",
     "start_time": "2018-07-21T03:31:32.696000Z"
    }
   },
   "outputs": [
    {
     "name": "stdout",
     "output_type": "stream",
     "text": [
      "Please enter some number...12\n",
      "User entered:: 12\n"
     ]
    }
   ],
   "source": [
    "a = input(\"Please enter some number...\")\n",
    "print(\"User entered::\",a)"
   ]
  },
  {
   "cell_type": "code",
   "execution_count": 33,
   "metadata": {
    "ExecuteTime": {
     "end_time": "2018-07-21T03:31:34.075400Z",
     "start_time": "2018-07-21T03:31:32.696000Z"
    }
   },
   "outputs": [
    {
     "name": "stdout",
     "output_type": "stream",
     "text": [
      "Please enter some number...[1,2,3]\n",
      "User entered:: <class 'str'>\n"
     ]
    }
   ],
   "source": [
    "a = input(\"Please enter some number...\")\n",
    "print(\"User entered::\",type(a))"
   ]
  },
  {
   "cell_type": "code",
   "execution_count": 36,
   "metadata": {
    "ExecuteTime": {
     "end_time": "2018-07-21T03:31:34.075400Z",
     "start_time": "2018-07-21T03:31:32.696000Z"
    }
   },
   "outputs": [
    {
     "name": "stdout",
     "output_type": "stream",
     "text": [
      "Please enter some number...12\n",
      "User entered:: <class 'str'>\n",
      "User entered:: <class 'int'>\n"
     ]
    }
   ],
   "source": [
    "a = input(\"Please enter some number...\")\n",
    "print(\"User entered::\",type(a))\n",
    "print(\"User entered::\",type(int(a)))"
   ]
  },
  {
   "cell_type": "markdown",
   "metadata": {},
   "source": [
    "# Comments and Multiline comments"
   ]
  },
  {
   "cell_type": "code",
   "execution_count": 8,
   "metadata": {},
   "outputs": [
    {
     "data": {
      "text/plain": [
       "'This is multi line comment1\\nThis is multi line comment2\\nThis is multi line comment3\\n'"
      ]
     },
     "execution_count": 8,
     "metadata": {},
     "output_type": "execute_result"
    }
   ],
   "source": [
    "# This is single line comment_1\n",
    "# This is single line comment_2 \\\n",
    "\"\"\"This is multi line comment1\n",
    "This is multi line comment2\n",
    "This is multi line comment3\n",
    "\"\"\""
   ]
  }
 ],
 "metadata": {
  "kernelspec": {
   "display_name": "Python 3",
   "language": "python",
   "name": "python3"
  },
  "language_info": {
   "codemirror_mode": {
    "name": "ipython",
    "version": 3
   },
   "file_extension": ".py",
   "mimetype": "text/x-python",
   "name": "python",
   "nbconvert_exporter": "python",
   "pygments_lexer": "ipython3",
   "version": "3.7.3"
  },
  "latex_envs": {
   "LaTeX_envs_menu_present": true,
   "autoclose": false,
   "autocomplete": true,
   "bibliofile": "biblio.bib",
   "cite_by": "apalike",
   "current_citInitial": 1,
   "eqLabelWithNumbers": true,
   "eqNumInitial": 1,
   "hotkeys": {
    "equation": "Ctrl-E",
    "itemize": "Ctrl-I"
   },
   "labels_anchors": false,
   "latex_user_defs": false,
   "report_style_numbering": false,
   "user_envs_cfg": false
  },
  "varInspector": {
   "cols": {
    "lenName": 16,
    "lenType": 16,
    "lenVar": 40
   },
   "kernels_config": {
    "python": {
     "delete_cmd_postfix": "",
     "delete_cmd_prefix": "del ",
     "library": "var_list.py",
     "varRefreshCmd": "print(var_dic_list())"
    },
    "r": {
     "delete_cmd_postfix": ") ",
     "delete_cmd_prefix": "rm(",
     "library": "var_list.r",
     "varRefreshCmd": "cat(var_dic_list()) "
    }
   },
   "types_to_exclude": [
    "module",
    "function",
    "builtin_function_or_method",
    "instance",
    "_Feature"
   ],
   "window_display": false
  }
 },
 "nbformat": 4,
 "nbformat_minor": 2
}
